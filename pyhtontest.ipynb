{
 "cells": [
  {
   "cell_type": "markdown",
   "id": "cc0afddd-c950-4973-bf6a-d3c36b2f3d21",
   "metadata": {},
   "source": [
    "1.Multithreading is ideal for I/O-bound tasks, applications requiring shared memory, and scenarios where responsiveness is key. It’s lightweight and efficient for tasks that often wait on external resources\n",
    "Multiprocessing is better for CPU-bound tasks, providing isolation, resource management, and the ability to leverage multiple CPU cores. It suits applications that require robustness and stability"
   ]
  },
  {
   "cell_type": "markdown",
   "id": "9e54bbd7-585f-402b-8938-daf0204baf6a",
   "metadata": {},
   "source": [
    "2.Resource Management: Instead of creating and destroying processes for each task, which can be resource-intensive and time-consuming, a process pool maintains a set of ready-to-use processes. This reduces overhead and improves performance.\n",
    "\n",
    "Concurrency: By allowing multiple tasks to be processed simultaneously, a process pool can take advantage of multi-core CPUs, leading to better utilization of system resources."
   ]
  },
  {
   "cell_type": "markdown",
   "id": "cb2c8aae-ea6d-4683-a5ba-51006e43f977",
   "metadata": {},
   "source": [
    "\n",
    "3.Multiprocessing is a Python module that allows the creation, synchronization, and communication between multiple processes. It enables concurrent execution of code by leveraging multiple CPU cores, which can significantly improve performance for CPU-bound tasks.\n",
    "\n",
    "Reasons for Using Multiprocessing in Python:\n",
    "Bypass Global Interpreter Lock (GIL): Python’s GIL allows only one thread to execute Python bytecode at a time, which can be a limitation for CPU-bound tasks. Multiprocessing creates separate processes, each with its own Python interpreter and memory space, thus bypassing the GIL and allowing true parallel execution.\n",
    "\n",
    "Improved Performance: For compute-intensive applications, using multiple processes can lead to better CPU utilization and faster execution times, especially on multicore machines.\n",
    "\n",
    "Isolation: Each process runs in its own memory space, which enhances stability. A crash in one process does not affect others, making it easier to manage errors and improve the reliability of applications.\n",
    "\n",
    "Task Parallelism: Multiprocessing is well-suited for tasks that can be executed independently, such as data processing, simulations, or any workload that can be split into smaller chunks."
   ]
  },
  {
   "cell_type": "code",
   "execution_count": 4,
   "id": "15a96e1f-9e9b-46ad-9831-62a019a0b338",
   "metadata": {},
   "outputs": [
    {
     "name": "stdout",
     "output_type": "stream",
     "text": [
      "Added 76 to the list: [76]\n",
      "Added 65 to the list: [76, 65]\n",
      "Removed 76 from the list: [65]\n",
      "Removed 65 from the list: []\n",
      "Added 87 to the list: [87]\n",
      "Removed 87 from the list: []\n",
      "Added 88 to the list: [88]\n",
      "Added 26 to the list: [88, 26]\n",
      "Removed 88 from the list: [26]\n",
      "Removed 26 from the list: []\n",
      "Added 4 to the list: [4]\n",
      "Removed 4 from the list: []\n",
      "Added 63 to the list: [63]\n",
      "Added 84 to the list: [63, 84]\n",
      "Removed 63 from the list: [84]\n",
      "Added 16 to the list: [84, 16]\n",
      "Removed 84 from the list: [16]\n",
      "Added 25 to the list: [16, 25]\n",
      "Removed 16 from the list: [25]\n",
      "Removed 25 from the list: []\n",
      "Final list: []\n"
     ]
    }
   ],
   "source": [
    "import threading\n",
    "import time\n",
    "import random\n",
    "\n",
    "# Shared list and lock\n",
    "shared_list = []\n",
    "lock = threading.Lock()\n",
    "\n",
    "# Function to add numbers to the list\n",
    "def add_numbers():\n",
    "    for _ in range(10):\n",
    "        num = random.randint(1, 100)\n",
    "        with lock:  # Acquire the lock before modifying the shared list\n",
    "            shared_list.append(num)\n",
    "            print(f\"Added {num} to the list: {shared_list}\")\n",
    "        time.sleep(random.uniform(0.1, 0.5))  # Sleep to simulate work\n",
    "\n",
    "# Function to remove numbers from the list\n",
    "def remove_numbers():\n",
    "    for _ in range(10):\n",
    "        time.sleep(random.uniform(0.1, 0.5))  # Sleep to simulate work\n",
    "        with lock:  # Acquire the lock before modifying the shared list\n",
    "            if shared_list:  # Check if the list is not empty\n",
    "                removed_num = shared_list.pop(0)  # Remove the first element\n",
    "                print(f\"Removed {removed_num} from the list: {shared_list}\")\n",
    "            else:\n",
    "                print(\"List is empty, nothing to remove.\")\n",
    "\n",
    "# Create threads\n",
    "add_thread = threading.Thread(target=add_numbers)\n",
    "remove_thread = threading.Thread(target=remove_numbers)\n",
    "\n",
    "# Start threads\n",
    "add_thread.start()\n",
    "remove_thread.start()\n",
    "\n",
    "# Wait for threads to finish\n",
    "add_thread.join()\n",
    "remove_thread.join()\n",
    "\n",
    "print(\"Final list:\", shared_list)\n"
   ]
  },
  {
   "cell_type": "markdown",
   "id": "bcd6584a-3a33-44a2-b429-7a31bcd858c3",
   "metadata": {},
   "source": [
    "5.For Threading:\n",
    "threading.Lock:\n",
    "\n",
    "A simple lock mechanism that can be used to ensure that only one thread can access a particular section of code (critical section) at a time\n",
    "threading.RLock:\n",
    "\n",
    "A reentrant lock that allows a thread to acquire the lock multiple times without causing a deadlock. Useful when the same thread needs to enter a critical section multiple times.\n",
    "threading.Semaphore:\n",
    "\n",
    "Allows a fixed number of threads to access a resource concurrently. Useful for controlling access to a pool of resource\n",
    "\n",
    "For Multiprocessing:\n",
    "multiprocessing.Lock:\n",
    "\n",
    "Similar to threading.Lock, it allows only one process to access a critical section at a time. It’s used to protect shared resources.\n",
    "multiprocessing.RLock:\n",
    "\n",
    "A reentrant lock for processes that allows a single process to acquire the lock multiple times.\n",
    "multiprocessing.Queue:\n",
    "\n",
    "A process-safe queue that allows data to be shared between processes. Like queue.Queue, it handles locking and is suitable for producer-consumer patterns.\n",
    "multiprocessing.Manager:\n",
    "\n",
    "A manager object can create shared data structures (like lists, dictionaries, and arrays) that can be accessed by different processes. It allows processes to communicate and share data more easily."
   ]
  },
  {
   "cell_type": "markdown",
   "id": "052fde4e-cdd5-421b-8473-8dd6e4b39678",
   "metadata": {},
   "source": [
    "6.Importance of Exception Handling in Concurrent Programs:\n",
    "Stability: Unhandled exceptions can lead to crashes or unpredictable behavior of an entire application, especially if threads or processes fail without proper error handling.\n",
    "\n",
    "Resource Management: Concurrent programs often manage shared resources. If an exception occurs and isn’t handled, resources may not be released properly, leading to memory leaks, deadlocks, or resource exhaustion.\n",
    "\n",
    "Debugging and Maintenance: Clear error reporting allows developers to identify and fix issues in concurrent code. Without proper exception handling, diagnosing problems can become very challenging.\n",
    "\n",
    "Coordination: In concurrent scenarios, multiple threads or processes may depend on each other's results. An unhandled exception can disrupt this coordination, leading to inconsistent application states.\n",
    "\n",
    "Techniques for Handling Exceptions in Concurrent Programs:\n",
    "Try-Except Blocks:\n",
    "\n",
    "Standard Python try-except blocks can be used within threads or processes to catch exceptions and handle them gracefully. This is the most basic form of exception handling\n",
    "def worker():\n",
    "    try:\n",
    "        # Code that might raise an exception\n",
    "    except Exception as e:\n",
    "        print(f\"Error occurred: {e}\")\n"
   ]
  },
  {
   "cell_type": "code",
   "execution_count": 18,
   "id": "1ba294c3-3808-45f5-bd4f-15498532d732",
   "metadata": {},
   "outputs": [
    {
     "ename": "IndentationError",
     "evalue": "expected an indented block after 'try' statement on line 2 (930417407.py, line 4)",
     "output_type": "error",
     "traceback": [
      "\u001b[1;36m  Cell \u001b[1;32mIn[18], line 4\u001b[1;36m\u001b[0m\n\u001b[1;33m    except Exception as e:\u001b[0m\n\u001b[1;37m    ^\u001b[0m\n\u001b[1;31mIndentationError\u001b[0m\u001b[1;31m:\u001b[0m expected an indented block after 'try' statement on line 2\n"
     ]
    }
   ],
   "source": [
    "\n",
    "6."
   ]
  },
  {
   "cell_type": "code",
   "execution_count": null,
   "id": "270f1f42-c930-4d23-a81a-71f265ee8f4a",
   "metadata": {},
   "outputs": [],
   "source": []
  }
 ],
 "metadata": {
  "kernelspec": {
   "display_name": "Python 3 (ipykernel)",
   "language": "python",
   "name": "python3"
  },
  "language_info": {
   "codemirror_mode": {
    "name": "ipython",
    "version": 3
   },
   "file_extension": ".py",
   "mimetype": "text/x-python",
   "name": "python",
   "nbconvert_exporter": "python",
   "pygments_lexer": "ipython3",
   "version": "3.12.4"
  }
 },
 "nbformat": 4,
 "nbformat_minor": 5
}
